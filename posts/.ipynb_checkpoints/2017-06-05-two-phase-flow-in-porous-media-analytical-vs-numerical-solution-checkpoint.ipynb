{
 "cells": [
  {
   "cell_type": "markdown",
   "metadata": {},
   "source": [
    "We've been trying to use the analytical (Buckley-Leverett) solution of the two-phase flow in porous media to fit the Corey-type relative permeability model to the experimental oil recovery data. In this post, I'm going to compare the numerical solution of the same model with the analytical results. You can find the codes that I have written in [this github repository](https://github.com/simulkade/peteng). Here, I only call the codes and compare the results."
   ]
  },
  {
   "cell_type": "code",
   "execution_count": null,
   "metadata": {},
   "outputs": [],
   "source": [
    "# load the input parameters and the functions\n",
    "using Roots, PyPlot, Dierckx, JFVM\n",
    "import JSON, JLD\n",
    "include(\"../../../projects/peteng/functions/rel_perms.jl\")\n",
    "include(\"../../../projects/peteng/functions/forced_imbibition_corey.jl\")\n",
    "include(\"../../../projects/peteng/functions/frac_flow_funcs.jl\")\n",
    "IJulia.clear_output()"
   ]
  },
  {
   "cell_type": "markdown",
   "metadata": {},
   "source": [
    "The input parameters are stored in the `input_params_BL.jld` file, that can be loaded by"
   ]
  },
  {
   "cell_type": "code",
   "execution_count": null,
   "metadata": {},
   "outputs": [],
   "source": [
    "JLD.@load \"../../../projects/peteng/results/input_params_BL.jld\";"
   ]
  },
  {
   "cell_type": "markdown",
   "metadata": {},
   "source": [
    "Now we can run the functions for the analytical and numerical solutions:"
   ]
  },
  {
   "cell_type": "code",
   "execution_count": null,
   "metadata": {},
   "outputs": [],
   "source": [
    "# call the functions\n",
    "# numerical solution (finite volume)\n",
    "(t_num, R_num, sw_prf)=forced_imb_impes(mu_water, mu_oil, u_inj, \n",
    "    poros, perm_ave, swc, sor, kro0, no,\n",
    "    krw0,nw, swi, 1.0, L_core, pv_inj, Nx=50)\n",
    "\n",
    "# Analytical solution (BL)\n",
    "(xt_shock, sw_shock, xt_prf, sw_prf, t_anal, p_inj, R_anal) = frac_flow_wf(\n",
    "  muw=mu_water, muo=mu_oil, ut=u_inj, phi=poros,\n",
    "  k=perm_ave, swc=swc, sor=sor, kro0=kro0, no=no, \n",
    "  krw0=krw0, nw=nw, sw0=swi, sw_inj=1.0, L=L_core, pv_inj=pv_inj)\n",
    "IJulia.clear_output() # only to clear the output from the previous function"
   ]
  },
  {
   "cell_type": "markdown",
   "metadata": {},
   "source": [
    "Now, we can plot the results and compare the solutions:"
   ]
  },
  {
   "cell_type": "code",
   "execution_count": null,
   "metadata": {},
   "outputs": [],
   "source": [
    "plot(t_anal, R_anal, \"o\", t_num, R_num)\n",
    "xlabel(\"time [s]\")\n",
    "ylabel(\"Recovery factor [-]\")\n",
    "IJulia.clear_output()"
   ]
  },
  {
   "cell_type": "markdown",
   "metadata": {},
   "source": [
    "It seems that the match very well. But if we zoom on the recovery plot close to the water breakthrough time,"
   ]
  },
  {
   "cell_type": "code",
   "execution_count": null,
   "metadata": {},
   "outputs": [],
   "source": [
    "plot(t_anal, R_anal, \"o\", t_num, R_num)\n",
    "xlabel(\"time [s]\")\n",
    "ylabel(\"Recovery factor [-]\")\n",
    "axis([25000, 50000, 0.40, 0.5])\n",
    "IJulia.clear_output()"
   ]
  },
  {
   "cell_type": "markdown",
   "metadata": {},
   "source": [
    "we can see that there is roughly 1 percent underestimation of the recovery factor by the numerical method. One reason is the numerical diffusion in the upwind scheme that I have used in my numerical solution. With this diffusion, the front is not sharp anymore and the water breakthrough (decrease in the slope of the recovery curve from the linear trend) happens a bit earlier in time. Let's test it by plotting the saturation profiles:"
   ]
  },
  {
   "cell_type": "code",
   "execution_count": null,
   "metadata": {},
   "outputs": [],
   "source": [
    "pv_inj2 = 0.3\n",
    "(t_num, R_num, sw_prf_num)=forced_imb_impes(mu_water, mu_oil, u_inj, \n",
    "    poros, perm_ave, swc, sor, kro0, no,\n",
    "    krw0,nw, swi, 1.0, L_core, pv_inj2, Nx=50)\n",
    "\n",
    "# Analytical solution (BL)\n",
    "(xt_shock, sw_shock, xt_prf, sw_prf, t_anal, p_inj, R_anal) = frac_flow_wf(\n",
    "  muw=mu_water, muo=mu_oil, ut=u_inj, phi=poros,\n",
    "  k=perm_ave, swc=swc, sor=sor, kro0=kro0, no=no, \n",
    "  krw0=krw0, nw=nw, sw0=swi, sw_inj=1.0, L=L_core, pv_inj=pv_inj2)\n",
    "visualizeCells(sw_prf_num)\n",
    "plot(xt_prf*t_anal[end], sw_prf)\n",
    "axis([0, L_core, 0, 1.0])\n",
    "legend([\"Numerical\", \"Analytical\"])\n",
    "xlabel(\"Core length [m]\")\n",
    "ylabel(\"Water saturation [-]\")\n",
    "IJulia.clear_output() # only to clear the output from the previous function"
   ]
  },
  {
   "cell_type": "markdown",
   "metadata": {},
   "source": [
    "We can clearly see that the extra numerical diffusion causes the water front to move faster resulting in an earlier water breakthrough. We can decrease this diffusion by refining the grid:"
   ]
  },
  {
   "cell_type": "code",
   "execution_count": null,
   "metadata": {},
   "outputs": [],
   "source": [
    "(t_num, R_num, sw_prf_num)=forced_imb_impes(mu_water, mu_oil, u_inj, \n",
    "    poros, perm_ave, swc, sor, kro0, no,\n",
    "    krw0,nw, swi, 1.0, L_core, pv_inj2, Nx=500)\n",
    "visualizeCells(sw_prf_num)\n",
    "plot(xt_prf*t_anal[end], sw_prf)\n",
    "axis([0, L_core, 0, 1.0])\n",
    "legend([\"Numerical\", \"Analytical\"])\n",
    "xlabel(\"Core length [m]\")\n",
    "ylabel(\"Water saturation [-]\")\n",
    "IJulia.clear_output()"
   ]
  },
  {
   "cell_type": "markdown",
   "metadata": {},
   "source": [
    "Now, we can see that the numerical solution is very close to the analytical solution. This must give a better match for the recovery curves as well:"
   ]
  },
  {
   "cell_type": "code",
   "execution_count": null,
   "metadata": {},
   "outputs": [],
   "source": [
    "# numerical solution (finite volume)\n",
    "(t_num, R_num, sw_prf)=forced_imb_impes(mu_water, mu_oil, u_inj, \n",
    "    poros, perm_ave, swc, sor, kro0, no,\n",
    "    krw0,nw, swi, 1.0, L_core, pv_inj, Nx=500)\n",
    "\n",
    "# Analytical solution (BL)\n",
    "(xt_shock, sw_shock, xt_prf, sw_prf, t_anal, p_inj, R_anal) = frac_flow_wf(\n",
    "  muw=mu_water, muo=mu_oil, ut=u_inj, phi=poros,\n",
    "  k=perm_ave, swc=swc, sor=sor, kro0=kro0, no=no, \n",
    "  krw0=krw0, nw=nw, sw0=swi, sw_inj=1.0, L=L_core, pv_inj=pv_inj)\n",
    "plot(t_anal, R_anal, \"o\", t_num, R_num)\n",
    "xlabel(\"time [s]\")\n",
    "ylabel(\"Recovery factor [-]\")\n",
    "axis([25000, 50000, 0.40, 0.5])\n",
    "IJulia.clear_output()"
   ]
  }
 ],
 "metadata": {
  "kernelspec": {
   "display_name": "Julia 1.6.2",
   "language": "julia",
   "name": "julia-1.6"
  },
  "language_info": {
   "file_extension": ".jl",
   "mimetype": "application/julia",
   "name": "julia",
   "version": "1.6.2"
  },
  "nikola": {
   "category": "",
   "date": "2017-06-05 21:31:06 UTC+02:00",
   "description": "",
   "link": "",
   "slug": "2017-06-05-two-phase-flow-in-porous-media-analytical-vs-numerical-solution",
   "tags": "",
   "title": "Two-phase flow in porous media: Analytical vs numerical solution",
   "type": "text"
  }
 },
 "nbformat": 4,
 "nbformat_minor": 2
}
