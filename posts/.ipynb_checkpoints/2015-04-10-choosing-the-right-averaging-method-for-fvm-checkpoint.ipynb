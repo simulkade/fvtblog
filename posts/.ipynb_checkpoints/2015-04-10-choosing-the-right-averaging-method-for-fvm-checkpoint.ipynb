{
 "cells": [
  {
   "cell_type": "markdown",
   "metadata": {
    "collapsed": false
   },
   "source": [
    "In the previous post, I discussed a linearization procedure that could be used to solve a nonlinear diffusion equation. We saw that the linearization converted the nonlinear diffusion equation to a PDE with linear diffusion and convection terms. Here, I'm going to solve that equation again, but this time on a nonuniform mesh. My objective is to see what happens if we choose an averaging term that is not consistent with the chosen method for the discretization of the convection term.\n",
    "## Another look at the equations\n",
    "The equation that we solved was \n",
    "$$\\frac{\\partial\\phi}{\\partial t}+\\nabla . (-D(\\phi)\\nabla \\phi) =0$$ \n",
    "where we can linearize the diffusion term as \n",
    "$$D\\left(\\phi\\right)\\nabla \\phi=D\\left(\\phi_{0}\\right)\\nabla \\phi+\\nabla \\phi_{0}\\left(\\frac{\\partial D}{\\partial \\phi}\\right)_{\\phi_{0}}\\left(\\phi-\\phi_{0}\\right).$$ \n",
    "Let's put it back in the original diffusion equation: \n",
    "$$\\frac{\\partial\\phi}{\\partial t}+\\nabla . \\left(-D\\left(\\phi_{0}\\right)\\nabla \\phi-\\nabla \\phi_{0}\\left(\\frac{\\partial D}{\\partial \\phi}\\right)_{\\phi_{0}}\\left(\\phi-\\phi_{0}\\right)\\right) =0$$ \n",
    "Of course this is an approximation. The idea is that we gues a $\\phi_0$, then solve the equation for $\\phi$, and replace it in $\\phi_0$ until the absolute or relative difference between them is less than a chosen small value.\n",
    "I write the above equation in a form that is actually used in a finite volume scheme with all the averaging on the cell faces. It reads $$\\frac{\\partial\\phi}{\\partial t}+\\nabla . \\left(-D\\left(\\phi_{0}\\right)\\nabla \\phi\\right)+\\nabla.\\left(-\\nabla \\phi_{0}\\left(\\frac{\\partial D}{\\partial \\phi}\\right)_{\\phi_{0,face}}\\phi\\right) =\\nabla.\\left(-\\nabla \\phi_{0}\\left(\\frac{\\partial D}{\\partial \\phi}\\right)_{\\phi_{0,face}}\\phi_{0,face}\\right)$$\n",
    "Here's the trick: on the left hand side, we have, from left to right, a transient term, a diffusion term, a convection term, and on the right hand side, a divergence term. We can use any type of discretization for the convective term, as long as the same averaging term to calculate the face value on the right hand side, that would be:  \n",
    "\n",
    "| Discretization   | Averaging   |\n",
    "|:----------------:|:-----------:|\n",
    "|convectionTerm    |   linearMean|\n",
    "|convectionUpwindTerm | upwindMean|\n",
    "|convectionTvdTerm | tvdMean|\n",
    "\n",
    "In this example, I'm going to show what will happen if you use an averaging technique that is not consistent with your chosen discretization method for the convective term."
   ]
  },
  {
   "cell_type": "code",
   "execution_count": 1,
   "metadata": {
    "collapsed": false
   },
   "outputs": [
    {
     "name": "stderr",
     "output_type": "stream",
     "text": [
      "INFO: Loading help data...\n"
     ]
    }
   ],
   "source": [
    "using JFVM, PyPlot"
   ]
  },
  {
   "cell_type": "code",
   "execution_count": 11,
   "metadata": {
    "collapsed": false
   },
   "outputs": [
    {
     "data": {
      "text/plain": [
       "diffusion_newton (generic function with 1 method)"
      ]
     },
     "execution_count": 11,
     "metadata": {},
     "output_type": "execute_result"
    }
   ],
   "source": [
    "function diffusion_newton(conv_method, avg_method)\n",
    "    L= 1.0 # domain length\n",
    "    Nx= 100\n",
    "    dx_min=L/Nx\n",
    "        x=[0.0, dx_min]\n",
    "    while x[end]<L\n",
    "        push!(x, x[end]+1.05(x[end]-x[end-1]))\n",
    "    end\n",
    "    x[end]=L\n",
    "    m= createMesh1D(x) # create a nonuniform 1D mesh\n",
    "    D0= 1.0 # diffusion coefficient constant\n",
    "    # Define the diffusion coefficientand its derivative\n",
    "    D(phi)=D0*(1.0+phi.^2)\n",
    "    dD(phi)=2.0*D0*phi\n",
    "    # create boundary condition\n",
    "    BC = createBC(m)\n",
    "    BC.left.a[:]=0.0\n",
    "    BC.left.b[:]=1.0\n",
    "    BC.left.c[:]=5.0\n",
    "    BC.right.a[:]=0.0\n",
    "    BC.right.b[:]=1.0\n",
    "    BC.right.c[:]=0.0\n",
    "    (Mbc, RHSbc)= boundaryConditionTerm(BC)\n",
    "    # define the initial condition\n",
    "    phi0= 0.0 # initial value\n",
    "    phi_old= createCellVariable(m, phi0, BC) # create initial cells\n",
    "    phi_val= copyCell(phi_old)\n",
    "    # initialize the solution for upwind case\n",
    "    phi_face= linearMean(phi_val)\n",
    "    u= -faceEval(dD, phi_face).*gradientTerm(phi_val)\n",
    "    # define the time steps\n",
    "    dt= 0.01*L*L/D0 # a proper time step for diffusion process\n",
    "    for i=1:10\n",
    "        err=100\n",
    "        (Mt, RHSt) = transientTerm(phi_old, dt)\n",
    "        while err>1e-10\n",
    "            # calculate the diffusion coefficient\n",
    "            Dface= harmonicMean(cellEval(D,phi_val))\n",
    "            # calculate the face value of phi_0\n",
    "            if avg_method==1\n",
    "                phi_face= linearMean(phi_val)\n",
    "            elseif avg_method==2\n",
    "                phi_face= arithmeticMean(phi_val)\n",
    "            elseif avg_method==3\n",
    "                phi_face= upwindMean(phi_val, u)\n",
    "            end\n",
    "            # calculate the velocity for convection term\n",
    "            u= -faceEval(dD, phi_face).*gradientTerm(phi_val)\n",
    "            # diffusion term\n",
    "            Mdif= diffusionTerm(Dface)\n",
    "            # convection term\n",
    "            if conv_method==1\n",
    "                Mconv= convectionTerm(u)\n",
    "            elseif conv_method==2\n",
    "                Mconv= convectionUpwindTerm(u)\n",
    "            end\n",
    "            # divergence term on the RHS\n",
    "            RHSlin= divergenceTerm(u.*phi_face)\n",
    "            # matrix of coefficients\n",
    "            M= Mt-Mdif+Mconv+Mbc\n",
    "            # RHS vector\n",
    "            RHS= RHSbc+RHSt+RHSlin\n",
    "            # call the linear solver\n",
    "            phi_new= solveLinearPDE(m, M, RHS)\n",
    "            # calculate the error\n",
    "            err= maximum(abs(phi_new.value-phi_val.value))\n",
    "            # assign the new phi to the old phi\n",
    "            phi_val=copyCell(phi_new)\n",
    "        end\n",
    "        phi_old= copyCell(phi_val)\n",
    "        #visualizeCells(phi_val)\n",
    "    end\n",
    "    return phi_val\n",
    "end"
   ]
  },
  {
   "cell_type": "code",
   "execution_count": 7,
   "metadata": {
    "collapsed": false
   },
   "outputs": [
    {
     "data": {
      "text/plain": [
       "diffusion_direct (generic function with 1 method)"
      ]
     },
     "execution_count": 7,
     "metadata": {},
     "output_type": "execute_result"
    }
   ],
   "source": [
    "function diffusion_direct()\n",
    "    L= 1.0 # domain length\n",
    "    Nx= 100\n",
    "    dx_min=L/Nx\n",
    "        x=[0.0, dx_min]\n",
    "    while x[end]<L\n",
    "        push!(x, x[end]+1.05(x[end]-x[end-1]))\n",
    "    end\n",
    "    x[end]=L\n",
    "    m= createMesh1D(x) # create a nonuniform 1D mesh\n",
    "    D0= 1.0 # diffusion coefficient constant\n",
    "    # Define the diffusion coefficientand its derivative\n",
    "    D(phi)=D0*(1.0+phi.^2)\n",
    "    dD(phi)=2.0*D0*phi\n",
    "    # create boundary condition\n",
    "    BC = createBC(m)\n",
    "    BC.left.a[:]=0.0\n",
    "    BC.left.b[:]=1.0\n",
    "    BC.left.c[:]=5.0\n",
    "    BC.right.a[:]=0.0\n",
    "    BC.right.b[:]=1.0\n",
    "    BC.right.c[:]=0.0\n",
    "    (Mbc, RHSbc)= boundaryConditionTerm(BC)\n",
    "    # define the initial condition\n",
    "    phi0= 0.0 # initial value\n",
    "    phi_old= createCellVariable(m, phi0, BC) # create initial cells\n",
    "    phi_val= copyCell(phi_old)\n",
    "    # define the time steps\n",
    "    dt= 0.01*L*L/D0 # a proper time step for diffusion process\n",
    "    for i=1:10\n",
    "        err=100\n",
    "        (Mt, RHSt) = transientTerm(phi_old, dt)\n",
    "        while err>1e-10\n",
    "            # calculate the diffusion coefficient\n",
    "            Dface= harmonicMean(cellEval(D,phi_val))\n",
    "            # diffusion term\n",
    "            Mdif= diffusionTerm(Dface)\n",
    "            # matrix of coefficients\n",
    "            M= Mt-Mdif+Mbc\n",
    "            # RHS vector\n",
    "            RHS= RHSbc+RHSt\n",
    "            # call the linear solver\n",
    "            phi_new= solveLinearPDE(m, M, RHS)\n",
    "            # calculate the error\n",
    "            err= maximum(abs(phi_new.value-phi_val.value))\n",
    "            # assign the new phi to the old phi\n",
    "            phi_val=copyCell(phi_new)\n",
    "        end\n",
    "        phi_old= copyCell(phi_val)\n",
    "        #visualizeCells(phi_val)\n",
    "    end\n",
    "    return phi_val\n",
    "end"
   ]
  },
  {
   "cell_type": "code",
   "execution_count": 21,
   "metadata": {
    "collapsed": false
   },
   "outputs": [
    {
     "data": {
      "image/png": "[encoded data removed]",
      "text/plain": [
       "Figure(PyObject <matplotlib.figure.Figure object at 0x7f7c4e716390>)"
      ]
     },
     "metadata": {},
     "output_type": "display_data"
    },
    {
     "data": {
      "text/plain": [
       "PyObject <matplotlib.legend.Legend object at 0x7f7c4e172410>"
      ]
     },
     "execution_count": 21,
     "metadata": {},
     "output_type": "execute_result"
    }
   ],
   "source": [
    "phi_ds=diffusion_direct()\n",
    "phi_n=diffusion_newton(2,2)\n",
    "plot(phi_ds.domain.cellcenters.x, phi_ds.value[2:end-1], \"y\",\n",
    "phi_n.domain.cellcenters.x, phi_n.value[2:end-1], \"--r\") \n",
    "legend([\"direct subs\", \"Newton\"])"
   ]
  }
 ],
 "metadata": {
  "kernelspec": {
   "display_name": "Julia 0.3.6",
   "language": "julia",
   "name": "julia 0.3"
  },
  "language_info": {
   "name": "julia",
   "version": "0.3.7"
  }
 },
 "nbformat": 4,
 "nbformat_minor": 0
}
