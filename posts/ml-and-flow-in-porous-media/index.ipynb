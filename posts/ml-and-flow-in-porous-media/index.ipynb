{
 "cells": [
  {
   "cell_type": "markdown",
   "id": "9e91f0a2",
   "metadata": {},
   "source": [
    "Write about the use of ML in Julia for multiphase flow modelling and parameter estimation"
   ]
  }
 ],
 "metadata": {
  "kernelspec": {
   "display_name": "Julia 1.6.2",
   "language": "julia",
   "name": "julia-1.6"
  },
  "language_info": {
   "file_extension": ".jl",
   "mimetype": "application/julia",
   "name": "julia",
   "version": "1.6.2"
  },
  "nikola": {
   "category": "",
   "date": "2021-08-26 15:29:31 UTC+02:00",
   "description": "",
   "link": "",
   "slug": "ml-and-flow-in-porous-media",
   "status": "draft",
   "tags": "",
   "title": "ML and flow in porous media",
   "type": "text"
  }
 },
 "nbformat": 4,
 "nbformat_minor": 5
}
